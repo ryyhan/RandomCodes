{
  "nbformat": 4,
  "nbformat_minor": 0,
  "metadata": {
    "colab": {
      "provenance": [],
      "authorship_tag": "ABX9TyNT5sSmG/OyrnXvaN2fobZG"
    },
    "kernelspec": {
      "name": "python3",
      "display_name": "Python 3"
    },
    "language_info": {
      "name": "python"
    }
  },
  "cells": [
    {
      "cell_type": "code",
      "source": [
        "!pip install boto3"
      ],
      "metadata": {
        "colab": {
          "base_uri": "https://localhost:8080/"
        },
        "id": "pjj0PgGjTXcb",
        "outputId": "3e24fd0e-64fc-44f9-8581-f8b6c0c1ec7d"
      },
      "execution_count": null,
      "outputs": [
        {
          "output_type": "stream",
          "name": "stdout",
          "text": [
            "Requirement already satisfied: boto3 in /usr/local/lib/python3.10/dist-packages (1.35.10)\n",
            "Requirement already satisfied: botocore<1.36.0,>=1.35.10 in /usr/local/lib/python3.10/dist-packages (from boto3) (1.35.10)\n",
            "Requirement already satisfied: jmespath<2.0.0,>=0.7.1 in /usr/local/lib/python3.10/dist-packages (from boto3) (1.0.1)\n",
            "Requirement already satisfied: s3transfer<0.11.0,>=0.10.0 in /usr/local/lib/python3.10/dist-packages (from boto3) (0.10.2)\n",
            "Requirement already satisfied: python-dateutil<3.0.0,>=2.1 in /usr/local/lib/python3.10/dist-packages (from botocore<1.36.0,>=1.35.10->boto3) (2.8.2)\n",
            "Requirement already satisfied: urllib3!=2.2.0,<3,>=1.25.4 in /usr/local/lib/python3.10/dist-packages (from botocore<1.36.0,>=1.35.10->boto3) (2.0.7)\n",
            "Requirement already satisfied: six>=1.5 in /usr/local/lib/python3.10/dist-packages (from python-dateutil<3.0.0,>=2.1->botocore<1.36.0,>=1.35.10->boto3) (1.16.0)\n"
          ]
        }
      ]
    },
    {
      "cell_type": "code",
      "execution_count": null,
      "metadata": {
        "id": "D79gt6Q8TGaF"
      },
      "outputs": [],
      "source": [
        "import boto3\n",
        "import json\n",
        "from botocore.exceptions import ClientError\n",
        "\n",
        "# Configure AWS credentials and region\n",
        "aws_region = ''  # Replace with your AWS region\n",
        "access_key_id = ''  # Replace with your access key ID\n",
        "secret_access_key = ''  # Replace with your secret access key\n",
        "\n",
        "# Create a Bedrock client\n",
        "bedrock = boto3.client(\n",
        "    'bedrock-runtime', # Changed from 'bedrock' to 'bedrock-runtime'\n",
        "    region_name=aws_region,\n",
        "    aws_access_key_id=access_key_id,\n",
        "    aws_secret_access_key=secret_access_key\n",
        ")\n",
        "\n",
        "model_id = \"meta.llama3-1-8b-instruct-v1:0\"\n",
        "\n",
        "# Define the prompt for the model.\n",
        "prompt = \"Describe the purpose of a 'hello world' program in one line.\"\n",
        "\n",
        "# Format the request payload using the model's native structure.\n",
        "native_request = {\n",
        "    \"prompt\": prompt\n",
        "}\n",
        "\n",
        "# Convert the native request to JSON.\n",
        "request = json.dumps(native_request)\n",
        "\n",
        "\n",
        "try:\n",
        "  response = bedrock.invoke_model(modelId=model_id, body=request)\n",
        "  response_body = json.loads(response.get('body').read())\n",
        "  print(response_body.get('generation')) # Adjust based on the actual response structure\n",
        "\n",
        "except ClientError as e:\n",
        "    # Handle any errors that occur during the invocation\n",
        "    print(f\"An error occurred: {e.response['Error']['Message']}\")"
      ]
    },
    {
      "cell_type": "code",
      "source": [
        "from IPython.display import Markdown, display\n",
        "display(Markdown(response_body.get('generation')))"
      ],
      "metadata": {
        "id": "w9hE-xj1TTlw"
      },
      "execution_count": null,
      "outputs": []
    },
    {
      "cell_type": "code",
      "source": [],
      "metadata": {
        "id": "vx54VA67Tr2N"
      },
      "execution_count": null,
      "outputs": []
    }
  ]
}